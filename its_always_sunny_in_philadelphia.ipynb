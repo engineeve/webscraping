#import libraries
from selenium import webdriver
from selenium.webdriver.common.keys import Keys
from selenium.webdriver.support.ui import Select
from selenium.webdriver.support import expected_conditions as EC
from selenium.webdriver.support.ui import WebDriverWait
from selenium.webdriver.common.by import By
from selenium.webdriver.common.action_chains import ActionChains

import time
import os

#login details
MY_EMAIL = ''
MY_PASSWORD = ''
MY_PROFILE_NAME = ''
TV_SHOW = 'Its always sunny in philadelphia'


chromedriver = "/usr/local/Cellar/chromedriver/2.28/bin/chromedriver"


#open a browser window
browser = webdriver.Chrome(chromedriver)


#Sign-in 
browser.get('http://www.netflix.com')
sign_in = browser.find_element_by_css_selector('a.authLinks.signupBasicHeader').click()
time.sleep(4)

email = browser.find_element_by_name('email')
email.send_keys(MY_EMAIL)

email = browser.find_element_by_name('password')
email.send_keys(MY_PASSWORD, Keys.RETURN)

#got to profile
time.sleep(4)
browser.maximize_window()
profile = browser.find_element_by_link_text(MY_PROFILE_NAME).click()


#Find TV Show

search = browser.find_element_by_class_name('searchBox').click()
time.sleep(2)

#Searchbox element is iframe so need to target active element

browser.switch_to.active_element.send_keys('Its always sunny in philadelphia', Keys.RETURN)

#Select the show and play
    
select_show = WebDriverWait(browser, 10).until(EC.element_to_be_clickable((By.CLASS_NAME, 'video-artwork')))
select_show.click()

play = WebDriverWait(browser, 10).until(EC.element_to_be_clickable((By.CLASS_NAME, 'playRing')))
play.click()
