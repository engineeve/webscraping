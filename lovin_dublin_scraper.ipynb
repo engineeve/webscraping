{
 "cells": [
  {
   "cell_type": "code",
   "execution_count": 49,
   "metadata": {
    "collapsed": false
   },
   "outputs": [
    {
     "name": "stdout",
     "output_type": "stream",
     "text": [
      "http://lovindublin.com/food/page/2\n",
      "The scraper found 12 posts! in total\n",
      "\n",
      "free is in 1 of them\n",
      "http://lovindublin.com/food/page/3\n",
      "The scraper found 24 posts! in total\n",
      "free is in 1 of them\n"
     ]
    },
    {
     "ename": "SMTPAuthenticationError",
     "evalue": "(535, '5.7.8 Username and Password not accepted. Learn more at\\n5.7.8  https://support.google.com/mail/?p=BadCredentials v186sm2922048wmv.2 - gsmtp')",
     "output_type": "error",
     "traceback": [
      "\u001b[0;31m---------------------------------------------------------------------------\u001b[0m",
      "\u001b[0;31mSMTPAuthenticationError\u001b[0m                   Traceback (most recent call last)",
      "\u001b[0;32m<ipython-input-49-3bf91ac22a0c>\u001b[0m in \u001b[0;36m<module>\u001b[0;34m()\u001b[0m\n\u001b[1;32m     79\u001b[0m         \u001b[0;31m# And email it to ourselves!\u001b[0m\u001b[0;34m\u001b[0m\u001b[0;34m\u001b[0m\u001b[0m\n\u001b[1;32m     80\u001b[0m     \u001b[0memail\u001b[0m \u001b[0;34m=\u001b[0m \u001b[0;34m'niamhdonnelly20@gmail.com'\u001b[0m\u001b[0;34m\u001b[0m\u001b[0m\n\u001b[0;32m---> 81\u001b[0;31m     \u001b[0msend_email\u001b[0m\u001b[0;34m(\u001b[0m\u001b[0;34m'Lovin Dublin Update'\u001b[0m\u001b[0;34m,\u001b[0m \u001b[0mmessage\u001b[0m\u001b[0;34m,\u001b[0m \u001b[0mfrom_addr\u001b[0m\u001b[0;34m=\u001b[0m\u001b[0mGMAIL_LOGIN\u001b[0m\u001b[0;34m,\u001b[0m \u001b[0mto_addr\u001b[0m\u001b[0;34m=\u001b[0m\u001b[0memail\u001b[0m\u001b[0;34m)\u001b[0m\u001b[0;34m\u001b[0m\u001b[0m\n\u001b[0m\u001b[1;32m     82\u001b[0m \u001b[0;34m\u001b[0m\u001b[0m\n\u001b[1;32m     83\u001b[0m \u001b[0;34m\u001b[0m\u001b[0m\n",
      "\u001b[0;32m<ipython-input-49-3bf91ac22a0c>\u001b[0m in \u001b[0;36msend_email\u001b[0;34m(subject, message, from_addr, to_addr)\u001b[0m\n\u001b[1;32m     18\u001b[0m     \u001b[0mserver\u001b[0m\u001b[0;34m.\u001b[0m\u001b[0mstarttls\u001b[0m\u001b[0;34m(\u001b[0m\u001b[0;34m)\u001b[0m\u001b[0;34m\u001b[0m\u001b[0m\n\u001b[1;32m     19\u001b[0m     \u001b[0mserver\u001b[0m\u001b[0;34m.\u001b[0m\u001b[0mehlo\u001b[0m\u001b[0;34m(\u001b[0m\u001b[0;34m)\u001b[0m\u001b[0;34m\u001b[0m\u001b[0m\n\u001b[0;32m---> 20\u001b[0;31m     \u001b[0mserver\u001b[0m\u001b[0;34m.\u001b[0m\u001b[0mlogin\u001b[0m\u001b[0;34m(\u001b[0m\u001b[0mGMAIL_LOGIN\u001b[0m\u001b[0;34m,\u001b[0m \u001b[0mGMAIL_PASSWORD\u001b[0m\u001b[0;34m)\u001b[0m\u001b[0;34m\u001b[0m\u001b[0m\n\u001b[0m\u001b[1;32m     21\u001b[0m     \u001b[0mserver\u001b[0m\u001b[0;34m.\u001b[0m\u001b[0msendmail\u001b[0m\u001b[0;34m(\u001b[0m\u001b[0mfrom_addr\u001b[0m\u001b[0;34m,\u001b[0m \u001b[0mto_addr\u001b[0m\u001b[0;34m,\u001b[0m \u001b[0mmsg\u001b[0m\u001b[0;34m.\u001b[0m\u001b[0mas_string\u001b[0m\u001b[0;34m(\u001b[0m\u001b[0;34m)\u001b[0m\u001b[0;34m)\u001b[0m\u001b[0;34m\u001b[0m\u001b[0m\n\u001b[1;32m     22\u001b[0m     \u001b[0mserver\u001b[0m\u001b[0;34m.\u001b[0m\u001b[0mclose\u001b[0m\u001b[0;34m(\u001b[0m\u001b[0;34m)\u001b[0m\u001b[0;34m\u001b[0m\u001b[0m\n",
      "\u001b[0;32m/Users/ndonnelly/anaconda/lib/python2.7/smtplib.pyc\u001b[0m in \u001b[0;36mlogin\u001b[0;34m(self, user, password)\u001b[0m\n\u001b[1;32m    620\u001b[0m             \u001b[0;31m# 235 == 'Authentication successful'\u001b[0m\u001b[0;34m\u001b[0m\u001b[0;34m\u001b[0m\u001b[0m\n\u001b[1;32m    621\u001b[0m             \u001b[0;31m# 503 == 'Error: already authenticated'\u001b[0m\u001b[0;34m\u001b[0m\u001b[0;34m\u001b[0m\u001b[0m\n\u001b[0;32m--> 622\u001b[0;31m             \u001b[0;32mraise\u001b[0m \u001b[0mSMTPAuthenticationError\u001b[0m\u001b[0;34m(\u001b[0m\u001b[0mcode\u001b[0m\u001b[0;34m,\u001b[0m \u001b[0mresp\u001b[0m\u001b[0;34m)\u001b[0m\u001b[0;34m\u001b[0m\u001b[0m\n\u001b[0m\u001b[1;32m    623\u001b[0m         \u001b[0;32mreturn\u001b[0m \u001b[0;34m(\u001b[0m\u001b[0mcode\u001b[0m\u001b[0;34m,\u001b[0m \u001b[0mresp\u001b[0m\u001b[0;34m)\u001b[0m\u001b[0;34m\u001b[0m\u001b[0m\n\u001b[1;32m    624\u001b[0m \u001b[0;34m\u001b[0m\u001b[0m\n",
      "\u001b[0;31mSMTPAuthenticationError\u001b[0m: (535, '5.7.8 Username and Password not accepted. Learn more at\\n5.7.8  https://support.google.com/mail/?p=BadCredentials v186sm2922048wmv.2 - gsmtp')"
     ]
    }
   ],
   "source": [
    "from bs4 import BeautifulSoup\n",
    "import urllib2\n",
    "import smtplib\n",
    "import requests \n",
    "from email.MIMEText import MIMEText\n",
    "GMAIL_LOGIN = '@gmail.com'\n",
    "GMAIL_PASSWORD = ''\n",
    "\n",
    "def send_email(subject, message, from_addr=GMAIL_LOGIN, to_addr=GMAIL_LOGIN):\n",
    "    msg = MIMEText(message)\n",
    "    msg['Subject'] = subject\n",
    "    msg['From'] = from_addr\n",
    "    msg['To'] = to_addr\n",
    "    msg['Reply-To'] = ''\n",
    "\n",
    "    server = smtplib.SMTP('smtp.gmail.com', 587)  # port 465 or 587\n",
    "    server.ehlo()\n",
    "    server.starttls()\n",
    "    server.ehlo()\n",
    "    server.login(GMAIL_LOGIN, GMAIL_PASSWORD)\n",
    "    server.sendmail(from_addr, to_addr, msg.as_string())\n",
    "    server.close()\n",
    "\n",
    "\n",
    "\n",
    "if __name__ == '__main__':\n",
    "    \n",
    "    \n",
    "    what_i_want = ['Free', 'FREE', 'free']\n",
    "    what_i_dont_want = ['gluten']\n",
    "    results = []\n",
    "    my_results = []\n",
    "    \n",
    "    for ( i ) in range(2, 4):\n",
    "        url = \"http://lovindublin.com/food/page/{}\".format(i)\n",
    "        source = urllib2.urlopen(url).read()\n",
    "        soup = BeautifulSoup(source)\n",
    "        print url\n",
    "\n",
    "        \n",
    "        \n",
    "        #soup.prettify()\n",
    "        \n",
    "        #identify elements on page that we are interested in \n",
    "        posts = soup.findAll('h3', {'class': 'c-entry__title'})\n",
    "        \n",
    "        \n",
    "            # get results\n",
    "        for p in posts:\n",
    "            text = p.text\n",
    "            for s in p.findAll('a'):  \n",
    "                text += '\\n' + s['href']\n",
    "            results.append(text)\n",
    "\n",
    "\n",
    "        print \"The scraper found %d posts! in total\" % len(results)\n",
    "\n",
    "\n",
    "            #Sort these results for posts containing the word free \n",
    "        for food in what_i_want:\n",
    "            for f in results:\n",
    "                if food in f and f not in my_results: \n",
    "                    my_results.append(f)\n",
    "                    print \n",
    "\n",
    "        print \"free is in %d of them\" % len(my_results)\n",
    "\n",
    "\n",
    "\n",
    "        # Add text to email\n",
    "    message = 'Hey ,\\n\\n\\n'\n",
    "    message += 'Feeling like a free meal ? .\\n\\n'\n",
    "    message += '\\n'.join(my_results)\n",
    "    message = message.encode('utf-8')\n",
    "        \n",
    "        # http://diveintopython.org/xml_processing/unicode.html\n",
    "    message = message.replace('\\t', '').replace('\\r', '')\n",
    "\n",
    "        # And email it to ourselves!\n",
    "    email = 'niamhdonnelly20@gmail.com'    \n",
    "    send_email('Lovin Dublin Update', message, from_addr=GMAIL_LOGIN, to_addr=email)\n",
    "        \n",
    "        \n",
    "        \n"
   ]
  },
  {
   "cell_type": "code",
   "execution_count": null,
   "metadata": {
    "collapsed": true
   },
   "outputs": [],
   "source": []
  },
  {
   "cell_type": "code",
   "execution_count": null,
   "metadata": {
    "collapsed": true
   },
   "outputs": [],
   "source": []
  }
 ],
 "metadata": {
  "kernelspec": {
   "display_name": "Python 2",
   "language": "python",
   "name": "python2"
  },
  "language_info": {
   "codemirror_mode": {
    "name": "ipython",
    "version": 2
   },
   "file_extension": ".py",
   "mimetype": "text/x-python",
   "name": "python",
   "nbconvert_exporter": "python",
   "pygments_lexer": "ipython2",
   "version": "2.7.13"
  }
 },
 "nbformat": 4,
 "nbformat_minor": 2
}
